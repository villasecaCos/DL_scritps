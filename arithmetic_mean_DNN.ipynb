{
 "cells": [
  {
   "cell_type": "markdown",
   "metadata": {},
   "source": [
    "# Neural network for Arithmetic mean\n",
    "\n",
    "This scripts creates a deep learning model that approximates the arithmetic mean, i.e, given a sequence of numbers the model computes the arithmetic mean as the output. The lenght of the sequence must be selected a priori, in order to train the neural network. The architecture is a traditional feed forward network with MSE(mean square error) as loss. "
   ]
  },
  {
   "cell_type": "code",
   "execution_count": 1,
   "metadata": {},
   "outputs": [],
   "source": [
    "# import libraries\n",
    "import numpy as np\n",
    "import random\n",
    "from sklearn.model_selection import train_test_split\n",
    "import matplotlib.pyplot as plt\n",
    "from tensorflow.keras.models import Sequential\n",
    "from tensorflow.keras.layers import Dense\n",
    "from tensorflow.keras.optimizers import RMSprop\n",
    "import tensorflow as tf"
   ]
  },
  {
   "cell_type": "code",
   "execution_count": 2,
   "metadata": {},
   "outputs": [],
   "source": [
    "# creates a list of random generated floats between min_val and max_val\n",
    "def generate_sequence(size, min_val=0,max_val=1):\n",
    "    return [min_val + (max_val-min_val)*random.random() for x in range(size)]"
   ]
  },
  {
   "cell_type": "code",
   "execution_count": 3,
   "metadata": {},
   "outputs": [],
   "source": [
    "# compute the expected values: mean of the sequences\n",
    "def compute_y(seq):\n",
    "    return np.mean(seq)"
   ]
  },
  {
   "cell_type": "code",
   "execution_count": 4,
   "metadata": {},
   "outputs": [],
   "source": [
    "# create the dataset\n",
    "def generate_data(n_rows,seq_length , max_value):\n",
    "    first = generate_sequence(seq_length, max_val=max_value)\n",
    "    X = [first]\n",
    "    Y = [compute_y(first)]\n",
    "    for i in range(n_rows-1):\n",
    "        seq = generate_sequence(seq_length, max_val=max_value)\n",
    "        X.append(seq)\n",
    "        Y.append(compute_y(seq))\n",
    "    return (np.array(X),np.array(Y))"
   ]
  },
  {
   "cell_type": "code",
   "execution_count": 5,
   "metadata": {},
   "outputs": [],
   "source": [
    "# create a model with MSE loss\n",
    "def build_model(num_features,hidden_layers, optimizer,activation = 'relu'):\n",
    "    model = Sequential()\n",
    "    model.add(tf.keras.Input(shape=num_features))# input\n",
    "    for hidden in hidden_layers:\n",
    "        model.add(Dense(hidden, activation=activation))# hidden\n",
    "    model.add(Dense(1))# output\n",
    "    model.compile(loss=tf.keras.losses.MeanSquaredError(), optimizer=optimizer)\n",
    "    return model"
   ]
  },
  {
   "cell_type": "code",
   "execution_count": 6,
   "metadata": {},
   "outputs": [],
   "source": [
    "# visualize history of the loss\n",
    "def viz_loss(train,test,legend,x_label,y_label):\n",
    "    plt.plot(train, 'r', label=legend[0])\n",
    "    plt.plot( test, 'g', label=legend[1])\n",
    "    plt.xlabel(x_label)\n",
    "    plt.ylabel(y_label)\n",
    "    plt.axis('tight')\n",
    "    plt.legend(loc='upper left')    \n",
    "    plt.show()"
   ]
  },
  {
   "cell_type": "code",
   "execution_count": 7,
   "metadata": {},
   "outputs": [],
   "source": [
    "# generate dataset\n",
    "n_rows = 1_000_000\n",
    "max_value = 1000\n",
    "seq_length = 20\n",
    "(X,Y) = generate_data(n_rows,seq_length,max_value)"
   ]
  },
  {
   "cell_type": "code",
   "execution_count": 8,
   "metadata": {},
   "outputs": [
    {
     "name": "stdout",
     "output_type": "stream",
     "text": [
      "(1000000, 20)\n"
     ]
    }
   ],
   "source": [
    "print(X.shape)"
   ]
  },
  {
   "cell_type": "code",
   "execution_count": 9,
   "metadata": {},
   "outputs": [],
   "source": [
    "#split the data into train and test\n",
    "X_train, X_test, y_train, y_test = train_test_split(X, Y, test_size=0.2, random_state=42)"
   ]
  },
  {
   "cell_type": "code",
   "execution_count": 10,
   "metadata": {},
   "outputs": [],
   "source": [
    "# fnn parameters\n",
    "epochs = 20\n",
    "num_hidden = [64,32,8,4]\n",
    "batch_size = 50"
   ]
  },
  {
   "cell_type": "code",
   "execution_count": 11,
   "metadata": {},
   "outputs": [],
   "source": [
    "# RMSprop hyperparameters\n",
    "optimizer = tf.keras.optimizers.RMSprop(\n",
    "    learning_rate=0.001, rho=0.9, momentum=0.0, epsilon=1e-07, centered=False,\n",
    "    name='RMSprop'\n",
    ")"
   ]
  },
  {
   "cell_type": "code",
   "execution_count": 12,
   "metadata": {},
   "outputs": [
    {
     "name": "stdout",
     "output_type": "stream",
     "text": [
      "(800000, 20)\n"
     ]
    }
   ],
   "source": [
    "print(X_train.shape)"
   ]
  },
  {
   "cell_type": "code",
   "execution_count": 13,
   "metadata": {},
   "outputs": [],
   "source": [
    "# create and train a model\n",
    "model = build_model(X_train.shape[1],num_hidden,optimizer)\n",
    "history = model.fit(X_train,\n",
    "              y_train,\n",
    "              batch_size=batch_size,\n",
    "              epochs=epochs,\n",
    "              verbose=0,\n",
    "              validation_split=0.2,\n",
    "              shuffle=True)"
   ]
  },
  {
   "cell_type": "code",
   "execution_count": 14,
   "metadata": {},
   "outputs": [
    {
     "name": "stdout",
     "output_type": "stream",
     "text": [
      "6250/6250 [==============================] - 10s 2ms/step - loss: 16.1304\n",
      "Test loss: 16.130441665649414\n"
     ]
    }
   ],
   "source": [
    "test_score = model.evaluate(X_test, y_test)\n",
    "print(\"Test loss:\", test_score)"
   ]
  },
  {
   "cell_type": "code",
   "execution_count": 15,
   "metadata": {},
   "outputs": [
    {
     "data": {
      "image/png": "[encoded data removed]",
      "text/plain": [
       "<Figure size 432x288 with 1 Axes>"
      ]
     },
     "metadata": {
      "needs_background": "light"
     },
     "output_type": "display_data"
    }
   ],
   "source": [
    "viz_loss(history.history['loss'],history.history['val_loss'],['train', 'validation'], 'epochs', 'loss')"
   ]
  },
  {
   "cell_type": "code",
   "execution_count": null,
   "metadata": {},
   "outputs": [],
   "source": []
  }
 ],
 "metadata": {
  "kernelspec": {
   "display_name": "Python 3",
   "language": "python",
   "name": "python3"
  },
  "language_info": {
   "codemirror_mode": {
    "name": "ipython",
    "version": 3
   },
   "file_extension": ".py",
   "mimetype": "text/x-python",
   "name": "python",
   "nbconvert_exporter": "python",
   "pygments_lexer": "ipython3",
   "version": "3.8.5"
  }
 },
 "nbformat": 4,
 "nbformat_minor": 4
}
